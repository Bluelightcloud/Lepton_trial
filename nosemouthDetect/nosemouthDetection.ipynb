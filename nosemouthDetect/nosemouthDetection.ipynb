{
 "cells": [
  {
   "cell_type": "code",
   "execution_count": null,
   "metadata": {},
   "outputs": [
    {
     "name": "stdout",
     "output_type": "stream",
     "text": [
      "Automatically created module for IPython interactive environment\n"
     ]
    }
   ],
   "source": [
    "import cv2\n",
    "import numpy as np\n",
    "import matplotlib.pyplot as plt\n",
    "import numpy as np\n",
    "import socket\n",
    "\n",
    "mouth_cascade = cv2.CascadeClassifier('haarcascade_mcs_mouth.xml')\n",
    "nose_cascade = cv2.CascadeClassifier('haarcascade_mcs_nose.xml')\n",
    "host = \"192.168.3.11\"\n",
    "port = 11111\n",
    "\n",
    "def sendData(mouth_r, nose_r):\n",
    "    message = \"\"\n",
    "    \n",
    "    for i in range(0, 8):\n",
    "        if i <= 3:\n",
    "            message += str(mouth_r[0][i])\n",
    "            message += ','\n",
    "        else:\n",
    "            message += str(nose_r[0][i-4])\n",
    "            if i < 7:\n",
    "                message += ','\n",
    "\n",
    "    client.send(message.encode('utf-8'))\n",
    "    response = client.recv(4096)\n",
    "    print(response)\n",
    "\n",
    "def main():\n",
    "    capture = cv2.VideoCapture(0)\n",
    "\n",
    "    while(True):\n",
    "        ret, frame = capture.read()\n",
    "        gray = cv2.cvtColor(frame, cv2.COLOR_BGR2GRAY)\n",
    "        mouth_rects = mouth_cascade.detectMultiScale(gray, 1.3, 5, minSize=(60, 60))\n",
    "        nose_rects = nose_cascade.detectMultiScale(gray, 1.3, 5, minSize=(60, 60))\n",
    "        sendData(mouth_rects, nose_rects)\n",
    "        \n",
    "        for (x,y,w,h) in mouth_rects:\n",
    "            frame = cv2.rectangle(frame,(x,y),(x+w,y+h),(255,0,0),5) # 青色\n",
    "        for (x,y,w,h) in nose_rects:\n",
    "            frame = cv2.rectangle(frame,(x,y),(x+w,y+h),(0,255,0),5) # 緑色\n",
    "\n",
    "        cv2.imshow('frame',frame)\n",
    "        if cv2.waitKey(1) & 0xFF == ord('q'):\n",
    "            break\n",
    "\n",
    "    capture.release()\n",
    "\n",
    "if __name__ == '__main__':\n",
    "    print(__doc__)\n",
    "    client = socket.socket(socket.AF_INET, socket.SOCK_STREAM)\n",
    "    client.connect((host, port))\n",
    "    main()\n",
    "    cv2.destroyAllWindows()"
   ]
  },
  {
   "cell_type": "code",
   "execution_count": 9,
   "metadata": {},
   "outputs": [
    {
     "name": "stdout",
     "output_type": "stream",
     "text": [
      "Automatically created module for IPython interactive environment\n"
     ]
    }
   ],
   "source": [
    "import cv2\n",
    "import numpy as np\n",
    "import matplotlib.pyplot as plt\n",
    "import numpy as np\n",
    "import socket\n",
    "\n",
    "mouth_cascade = cv2.CascadeClassifier('haarcascade_mcs_mouth.xml')\n",
    "nose_cascade = cv2.CascadeClassifier('haarcascade_mcs_nose.xml')\n",
    "host = \"192.168.3.11\"\n",
    "port = 11111\n",
    "buffer_size = 4092\n",
    "\n",
    "def sendData(mouth_r, nose_r):\n",
    "    message = \"\"\n",
    "    for i in range(0, 8):\n",
    "        if i <= 3:\n",
    "            if len(mouth_r) == 0:\n",
    "                message += str(0)\n",
    "            else:\n",
    "                message += str(mouth_r[0][i])\n",
    "            message += ','\n",
    "        else:\n",
    "            if len(nose_r) == 0:\n",
    "                message += str(0)\n",
    "            else:\n",
    "                message += str(nose_r[0][i-4])\n",
    "                \n",
    "            if i < 7:\n",
    "                message += ','\n",
    "        \n",
    "    with socket.socket(socket.AF_INET, socket.SOCK_DGRAM) as s:\n",
    "        s.sendto(message.encode('utf-8'), (host, port))\n",
    "\n",
    "\n",
    "def main():\n",
    "    capture = cv2.VideoCapture(0)\n",
    "\n",
    "    while(True):\n",
    "        ret, frame = capture.read()\n",
    "        gray = cv2.cvtColor(frame, cv2.COLOR_BGR2GRAY)\n",
    "        mouth_rects = mouth_cascade.detectMultiScale(gray, 1.3, 5, minSize=(60, 60))\n",
    "        nose_rects = nose_cascade.detectMultiScale(gray, 1.3, 5, minSize=(60, 60))\n",
    "        sendData(mouth_rects, nose_rects)\n",
    "        \n",
    "        for (x,y,w,h) in mouth_rects:\n",
    "            frame = cv2.rectangle(frame,(x,y),(x+w,y+h),(255,0,0),5) # 青色\n",
    "        for (x,y,w,h) in nose_rects:\n",
    "            frame = cv2.rectangle(frame,(x,y),(x+w,y+h),(0,255,0),5) # 緑色\n",
    "\n",
    "        cv2.imshow('frame',frame)\n",
    "        if cv2.waitKey(1) & 0xFF == ord('q'):\n",
    "            break\n",
    "\n",
    "    capture.release()\n",
    "\n",
    "if __name__ == '__main__':\n",
    "    print(__doc__)\n",
    "    main()\n",
    "    cv2.destroyAllWindows()"
   ]
  },
  {
   "cell_type": "code",
   "execution_count": null,
   "metadata": {},
   "outputs": [],
   "source": []
  }
 ],
 "metadata": {
  "kernelspec": {
   "display_name": "Python 3",
   "language": "python",
   "name": "python3"
  },
  "language_info": {
   "codemirror_mode": {
    "name": "ipython",
    "version": 3
   },
   "file_extension": ".py",
   "mimetype": "text/x-python",
   "name": "python",
   "nbconvert_exporter": "python",
   "pygments_lexer": "ipython3",
   "version": "3.8.2"
  }
 },
 "nbformat": 4,
 "nbformat_minor": 4
}
