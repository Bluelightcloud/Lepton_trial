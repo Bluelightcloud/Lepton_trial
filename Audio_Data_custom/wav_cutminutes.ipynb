{
 "cells": [
  {
   "cell_type": "code",
   "execution_count": 1,
   "metadata": {},
   "outputs": [
    {
     "name": "stdout",
     "output_type": "stream",
     "text": [
      "True\n",
      "input filename = \n",
      "LeptonMic\n",
      "cut time = \n",
      "15\n",
      "Channel:  2\n",
      "Sample width:  2\n",
      "Frame Rate:  48000\n",
      "Frame num:  157779072\n",
      "Params:  _wave_params(nchannels=2, sampwidth=2, framerate=48000, nframes=157779072, comptype='NONE', compname='not compressed')\n",
      "Total time:  3287.064\n",
      "Total time(integer) 3287\n",
      "Time:  15\n",
      "Frames:  1440000\n",
      "Number of cut:  219\n"
     ]
    },
    {
     "name": "stderr",
     "output_type": "stream",
     "text": [
      "<ipython-input-1-93b6e627acfc>:48: DeprecationWarning: scipy.fromstring is deprecated and will be removed in SciPy 2.0.0, use numpy.fromstring instead\n",
      "  X = fromstring(data, dtype=int16)\n"
     ]
    },
    {
     "ename": "MemoryError",
     "evalue": "Unable to allocate 602. MiB for an array with shape (315558144,) and data type int16",
     "output_type": "error",
     "traceback": [
      "\u001b[1;31m---------------------------------------------------------------------------\u001b[0m",
      "\u001b[1;31mMemoryError\u001b[0m                               Traceback (most recent call last)",
      "\u001b[1;32m<ipython-input-1-93b6e627acfc>\u001b[0m in \u001b[0;36m<module>\u001b[1;34m\u001b[0m\n\u001b[0;32m     73\u001b[0m \u001b[0mprint\u001b[0m\u001b[1;33m(\u001b[0m\u001b[1;34m\"cut time = \"\u001b[0m\u001b[1;33m)\u001b[0m\u001b[1;33m\u001b[0m\u001b[1;33m\u001b[0m\u001b[0m\n\u001b[0;32m     74\u001b[0m \u001b[0mcut_time\u001b[0m \u001b[1;33m=\u001b[0m \u001b[0minput\u001b[0m\u001b[1;33m(\u001b[0m\u001b[1;33m)\u001b[0m\u001b[1;33m\u001b[0m\u001b[1;33m\u001b[0m\u001b[0m\n\u001b[1;32m---> 75\u001b[1;33m \u001b[0mcut_wav\u001b[0m\u001b[1;33m(\u001b[0m\u001b[0mf_name\u001b[0m\u001b[1;33m,\u001b[0m\u001b[0mcut_time\u001b[0m\u001b[1;33m)\u001b[0m\u001b[1;33m\u001b[0m\u001b[1;33m\u001b[0m\u001b[0m\n\u001b[0m",
      "\u001b[1;32m<ipython-input-1-93b6e627acfc>\u001b[0m in \u001b[0;36mcut_wav\u001b[1;34m(filename, time)\u001b[0m\n\u001b[0;32m     46\u001b[0m     \u001b[0mdata\u001b[0m \u001b[1;33m=\u001b[0m \u001b[0mwr\u001b[0m\u001b[1;33m.\u001b[0m\u001b[0mreadframes\u001b[0m\u001b[1;33m(\u001b[0m\u001b[0mwr\u001b[0m\u001b[1;33m.\u001b[0m\u001b[0mgetnframes\u001b[0m\u001b[1;33m(\u001b[0m\u001b[1;33m)\u001b[0m\u001b[1;33m)\u001b[0m\u001b[1;33m\u001b[0m\u001b[1;33m\u001b[0m\u001b[0m\n\u001b[0;32m     47\u001b[0m     \u001b[0mwr\u001b[0m\u001b[1;33m.\u001b[0m\u001b[0mclose\u001b[0m\u001b[1;33m(\u001b[0m\u001b[1;33m)\u001b[0m\u001b[1;33m\u001b[0m\u001b[1;33m\u001b[0m\u001b[0m\n\u001b[1;32m---> 48\u001b[1;33m     \u001b[0mX\u001b[0m \u001b[1;33m=\u001b[0m \u001b[0mfromstring\u001b[0m\u001b[1;33m(\u001b[0m\u001b[0mdata\u001b[0m\u001b[1;33m,\u001b[0m \u001b[0mdtype\u001b[0m\u001b[1;33m=\u001b[0m\u001b[0mint16\u001b[0m\u001b[1;33m)\u001b[0m\u001b[1;33m\u001b[0m\u001b[1;33m\u001b[0m\u001b[0m\n\u001b[0m\u001b[0;32m     49\u001b[0m     \u001b[0mprint\u001b[0m\u001b[1;33m(\u001b[0m\u001b[0mX\u001b[0m\u001b[1;33m)\u001b[0m\u001b[1;33m\u001b[0m\u001b[1;33m\u001b[0m\u001b[0m\n\u001b[0;32m     50\u001b[0m \u001b[1;33m\u001b[0m\u001b[0m\n",
      "\u001b[1;32mc:\\users\\浜松　翔大\\appdata\\local\\programs\\python\\python38-32\\lib\\site-packages\\scipy\\_lib\\deprecation.py\u001b[0m in \u001b[0;36mcall\u001b[1;34m(*args, **kwargs)\u001b[0m\n\u001b[0;32m     18\u001b[0m             warnings.warn(msg, category=DeprecationWarning,\n\u001b[0;32m     19\u001b[0m                           stacklevel=stacklevel)\n\u001b[1;32m---> 20\u001b[1;33m             \u001b[1;32mreturn\u001b[0m \u001b[0mfun\u001b[0m\u001b[1;33m(\u001b[0m\u001b[1;33m*\u001b[0m\u001b[0margs\u001b[0m\u001b[1;33m,\u001b[0m \u001b[1;33m**\u001b[0m\u001b[0mkwargs\u001b[0m\u001b[1;33m)\u001b[0m\u001b[1;33m\u001b[0m\u001b[1;33m\u001b[0m\u001b[0m\n\u001b[0m\u001b[0;32m     21\u001b[0m         \u001b[0mcall\u001b[0m\u001b[1;33m.\u001b[0m\u001b[0m__doc__\u001b[0m \u001b[1;33m=\u001b[0m \u001b[0mmsg\u001b[0m\u001b[1;33m\u001b[0m\u001b[1;33m\u001b[0m\u001b[0m\n\u001b[0;32m     22\u001b[0m         \u001b[1;32mreturn\u001b[0m \u001b[0mcall\u001b[0m\u001b[1;33m\u001b[0m\u001b[1;33m\u001b[0m\u001b[0m\n",
      "\u001b[1;31mMemoryError\u001b[0m: Unable to allocate 602. MiB for an array with shape (315558144,) and data type int16"
     ]
    }
   ],
   "source": [
    "import wave\n",
    "import struct\n",
    "import math\n",
    "import os\n",
    "from scipy import fromstring, int16\n",
    "\n",
    "# 一応既に同じ名前のディレクトリがないか確認。\n",
    "file = os.path.exists(\"output\")\n",
    "print(file)\n",
    "\n",
    "if file == False:\n",
    "    #保存先のディレクトリの作成\n",
    "    os.mkdir(\"output\")\n",
    "\n",
    "def cut_wav(filename,time):  # WAVファイルを刈り奪る　形をしてるだろ？ \n",
    "    # timeの単位は[sec]\n",
    "\n",
    "    # ファイルを読み出し\n",
    "    wavf = filename + '.wav'\n",
    "    wr = wave.open(wavf, 'r')\n",
    "\n",
    "    # waveファイルが持つ性質を取得\n",
    "    ch = wr.getnchannels()\n",
    "    width = wr.getsampwidth()\n",
    "    fr = wr.getframerate()\n",
    "    fn = wr.getnframes()\n",
    "    total_time = 1.0 * fn / fr\n",
    "    integer = math.floor(total_time) # 小数点以下切り捨て\n",
    "    t = int(time)  # 秒数[sec]\n",
    "    frames = int(ch * fr * t)\n",
    "    num_cut = int(integer//t)\n",
    "\n",
    "    #　確認用\n",
    "    print(\"Channel: \", ch)\n",
    "    print(\"Sample width: \", width)\n",
    "    print(\"Frame Rate: \", fr)\n",
    "    print(\"Frame num: \", fn)\n",
    "    print(\"Params: \", wr.getparams())\n",
    "    print(\"Total time: \", total_time)\n",
    "    print(\"Total time(integer)\",integer)\n",
    "    print(\"Time: \", t) \n",
    "    print(\"Frames: \", frames) \n",
    "    print(\"Number of cut: \",num_cut)\n",
    "\n",
    "    # waveの実データを取得し、数値化\n",
    "    data = wr.readframes(wr.getnframes())\n",
    "    wr.close()\n",
    "    X = fromstring(data, dtype=int16)\n",
    "    print(X)\n",
    "\n",
    "\n",
    "    for i in range(num_cut):\n",
    "        print(i)\n",
    "        # 出力データを生成\n",
    "        outf = 'output/' + str(i) + '.wav' \n",
    "        start_cut = i*frames\n",
    "        end_cut = i*frames + frames\n",
    "        print(start_cut)\n",
    "        print(end_cut)\n",
    "        Y = X[start_cut:end_cut]\n",
    "        outd = struct.pack(\"h\" * len(Y), *Y)\n",
    "\n",
    "        # 書き出し\n",
    "        ww = wave.open(outf, 'w')\n",
    "        ww.setnchannels(ch)\n",
    "        ww.setsampwidth(width)\n",
    "        ww.setframerate(fr)\n",
    "        ww.writeframes(outd)\n",
    "        ww.close()\n",
    "\n",
    "print(\"input filename = \")\n",
    "f_name = input()\n",
    "print(\"cut time = \")\n",
    "cut_time = input()\n",
    "cut_wav(f_name,cut_time)"
   ]
  },
  {
   "cell_type": "code",
   "execution_count": null,
   "metadata": {},
   "outputs": [],
   "source": []
  }
 ],
 "metadata": {
  "kernelspec": {
   "display_name": "Python 3",
   "language": "python",
   "name": "python3"
  },
  "language_info": {
   "codemirror_mode": {
    "name": "ipython",
    "version": 3
   },
   "file_extension": ".py",
   "mimetype": "text/x-python",
   "name": "python",
   "nbconvert_exporter": "python",
   "pygments_lexer": "ipython3",
   "version": "3.8.2"
  }
 },
 "nbformat": 4,
 "nbformat_minor": 4
}
